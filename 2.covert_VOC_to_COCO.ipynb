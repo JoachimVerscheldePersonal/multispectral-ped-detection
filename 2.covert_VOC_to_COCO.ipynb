{
 "cells": [
  {
   "cell_type": "code",
   "execution_count": 1,
   "metadata": {},
   "outputs": [],
   "source": [
    "import os\n",
    "from entities import VOC2COCO"
   ]
  },
  {
   "cell_type": "markdown",
   "metadata": {},
   "source": [
    "## Annotation convertion from PASCAL VOC to COCO\n",
    "The annotation type used by the KAIST multispectral pedestrian dataset is not in official PASCAL VOC format. \n",
    "This makes it more difficult to convert the annotations to the YOLO format required for the YOLOV8 model.\n",
    "We first convert the annotations to COCO and subsequently convert the COCO annotations to the YOLO format. \n",
    "Because of this custom PASCAL VOC format we could not use a out-of-the-box VOC 2 YOLO converter.\n",
    "### 1. Setting the day and night source and target "
   ]
  },
  {
   "cell_type": "code",
   "execution_count": 2,
   "metadata": {},
   "outputs": [],
   "source": [
    "day_voc_annotations_folder = \"data/sample_dataset/RAW/Set1_V000/V000/voc_annotations/\"\n",
    "night_voc_annotations_folder = \"data/sample_dataset/RAW/Set4_V000/V000/voc_annotations/\"\n",
    "\n",
    "day_coco_annotations_path = \"data/sample_dataset/RAW/Set1_V000/V000/coco_annotations/day.json\"\n",
    "night_coco_annotations_path = \"data/sample_dataset/RAW/Set4_V000/V000/coco_annotations/night.json\""
   ]
  },
  {
   "cell_type": "code",
   "execution_count": 3,
   "metadata": {},
   "outputs": [],
   "source": [
    "day_voc_annotation_paths = [os.path.join(day_voc_annotations_folder, annotation_name) for annotation_name in os.listdir(day_voc_annotations_folder)]\n",
    "night_voc_annotation_paths = [os.path.join(night_voc_annotations_folder, annotation_name) for annotation_name in os.listdir(night_voc_annotations_folder)]"
   ]
  },
  {
   "cell_type": "markdown",
   "metadata": {},
   "source": [
    "### 2. Converting to COCO\n",
    "We created a custom VOC2COCO converter based on code from this github repo:\n",
    "[https://github.com/yukkyo/voc2coco](https://github.com/yukkyo/voc2coco)\n",
    "\n",
    "We convert both day and night seperately because we want to control the ratio day/night images when splitting the dataset into train/val/test sets"
   ]
  },
  {
   "cell_type": "code",
   "execution_count": 4,
   "metadata": {},
   "outputs": [
    {
     "name": "stdout",
     "output_type": "stream",
     "text": [
      "Converting started\n"
     ]
    },
    {
     "name": "stderr",
     "output_type": "stream",
     "text": [
      "100%|██████████| 2254/2254 [00:01<00:00, 1400.87it/s]\n"
     ]
    },
    {
     "name": "stdout",
     "output_type": "stream",
     "text": [
      "Saved COCO annotations to data/sample_dataset/RAW/Set1_V000/V000/coco_annotations/day.json.\n",
      "Converting started\n"
     ]
    },
    {
     "name": "stderr",
     "output_type": "stream",
     "text": [
      "100%|██████████| 3997/3997 [00:02<00:00, 1628.67it/s]\n"
     ]
    },
    {
     "name": "stdout",
     "output_type": "stream",
     "text": [
      "Saved COCO annotations to data/sample_dataset/RAW/Set4_V000/V000/coco_annotations/night.json.\n"
     ]
    }
   ],
   "source": [
    "voc2coco = VOC2COCO()\n",
    "voc2coco.convert(day_voc_annotation_paths, day_coco_annotations_path)\n",
    "voc2coco.convert(night_voc_annotation_paths, night_coco_annotations_path, True)"
   ]
  },
  {
   "cell_type": "code",
   "execution_count": null,
   "metadata": {},
   "outputs": [],
   "source": []
  }
 ],
 "metadata": {
  "kernelspec": {
   "display_name": "yolo-env",
   "language": "python",
   "name": "python3"
  },
  "language_info": {
   "codemirror_mode": {
    "name": "ipython",
    "version": 3
   },
   "file_extension": ".py",
   "mimetype": "text/x-python",
   "name": "python",
   "nbconvert_exporter": "python",
   "pygments_lexer": "ipython3",
   "version": "3.10.11"
  }
 },
 "nbformat": 4,
 "nbformat_minor": 2
}
