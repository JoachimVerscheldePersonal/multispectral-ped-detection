{
 "cells": [
  {
   "cell_type": "code",
   "execution_count": 1,
   "metadata": {},
   "outputs": [],
   "source": [
    "import os\n",
    "from tqdm import tqdm\n",
    "from ultralytics.data.converter import convert_coco"
   ]
  },
  {
   "cell_type": "markdown",
   "metadata": {},
   "source": [
    "## Annotation convertion from COCO to YOLO\n",
    "The second part of the PASCAL VOC TO YOLO conversion where we convert from COCO to YOLO using the ultralytics `convert_coco` method\n",
    "### 1. Setting the day and night source and target "
   ]
  },
  {
   "cell_type": "code",
   "execution_count": 2,
   "metadata": {},
   "outputs": [],
   "source": [
    "day_coco_annotations_folder = \"data/sample_dataset/RAW/Set1_V000/V000/coco_annotations/\"\n",
    "night_coco_annotations_folder = \"data/sample_dataset/RAW/Set4_V000/V000/coco_annotations/\"\n",
    "\n",
    "day_yolo_annotations_folder = \"data/sample_dataset/RAW/Set1_V000/V000/yolo_annotations/\"\n",
    "night_yolo_annotations_folder = \"data/sample_dataset/RAW/Set4_V000/V000/yolo_annotations/\""
   ]
  },
  {
   "cell_type": "code",
   "execution_count": 3,
   "metadata": {},
   "outputs": [
    {
     "name": "stderr",
     "output_type": "stream",
     "text": [
      "Annotations C:\\Repositories\\OpenUniversiteit\\multispectral-ped-detection\\data\\sample_dataset\\RAW\\Set1_V000\\V000\\coco_annotations\\day.json: 100%|██████████| 885/885 [00:01<00:00, 450.15it/s]"
     ]
    },
    {
     "name": "stdout",
     "output_type": "stream",
     "text": [
      "COCO data converted successfully.\n",
      "Results saved to C:\\Repositories\\OpenUniversiteit\\multispectral-ped-detection\\data\\sample_dataset\\RAW\\Set1_V000\\V000\\yolo_annotations\n"
     ]
    },
    {
     "name": "stderr",
     "output_type": "stream",
     "text": [
      "\n",
      "Annotations C:\\Repositories\\OpenUniversiteit\\multispectral-ped-detection\\data\\sample_dataset\\RAW\\Set4_V000\\V000\\coco_annotations\\night.json: 100%|██████████| 1871/1871 [00:05<00:00, 365.07it/s]"
     ]
    },
    {
     "name": "stdout",
     "output_type": "stream",
     "text": [
      "COCO data converted successfully.\n",
      "Results saved to C:\\Repositories\\OpenUniversiteit\\multispectral-ped-detection\\data\\sample_dataset\\RAW\\Set4_V000\\V000\\yolo_annotations\n"
     ]
    },
    {
     "name": "stderr",
     "output_type": "stream",
     "text": [
      "\n"
     ]
    }
   ],
   "source": [
    "convert_coco(labels_dir=day_coco_annotations_folder, save_dir=day_yolo_annotations_folder)\n",
    "convert_coco(labels_dir=night_coco_annotations_folder, save_dir=night_yolo_annotations_folder)"
   ]
  },
  {
   "cell_type": "code",
   "execution_count": null,
   "metadata": {},
   "outputs": [],
   "source": []
  }
 ],
 "metadata": {
  "kernelspec": {
   "display_name": "yolo-env",
   "language": "python",
   "name": "python3"
  },
  "language_info": {
   "codemirror_mode": {
    "name": "ipython",
    "version": 3
   },
   "file_extension": ".py",
   "mimetype": "text/x-python",
   "name": "python",
   "nbconvert_exporter": "python",
   "pygments_lexer": "ipython3",
   "version": "3.10.11"
  }
 },
 "nbformat": 4,
 "nbformat_minor": 2
}
