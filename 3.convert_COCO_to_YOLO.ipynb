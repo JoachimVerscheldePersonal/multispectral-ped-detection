{
 "cells": [
  {
   "cell_type": "code",
   "execution_count": 1,
   "metadata": {},
   "outputs": [],
   "source": [
    "import os\n",
    "from tqdm import tqdm\n",
    "from ultralytics.data.converter import convert_coco"
   ]
  },
  {
   "cell_type": "markdown",
   "metadata": {},
   "source": [
    "## Annotation convertion from COCO to YOLO\n",
    "The second part of the PASCAL VOC TO YOLO conversion where we convert from COCO to YOLO using the ultralytics `convert_coco` method\n",
    "### 1. Setting the day and night source and target "
   ]
  },
  {
   "cell_type": "code",
   "execution_count": 2,
   "metadata": {},
   "outputs": [],
   "source": [
    "day_coco_annotations_folder = \"B:/multispectral-ped-detection/data/RAW/kaist-cvpr15/annotations-coco/day/\"\n",
    "night_coco_annotations_folder = \"B:/multispectral-ped-detection/data/RAW/kaist-cvpr15/annotations-coco/night/\"\n",
    "\n",
    "day_yolo_annotations_folder = \"B:/multispectral-ped-detection/data/RAW/kaist-cvpr15/annotations-yolo/day/\"\n",
    "night_yolo_annotations_folder = \"B:/multispectral-ped-detection/data/RAW/kaist-cvpr15/annotations-yolo/night/\""
   ]
  },
  {
   "cell_type": "code",
   "execution_count": 3,
   "metadata": {},
   "outputs": [
    {
     "name": "stderr",
     "output_type": "stream",
     "text": [
      "Annotations B:\\multispectral-ped-detection\\data\\RAW\\kaist-cvpr15\\annotations-coco\\day\\day.json: 100%|██████████| 26535/26535 [08:05<00:00, 54.60it/s]"
     ]
    },
    {
     "name": "stdout",
     "output_type": "stream",
     "text": [
      "COCO data converted successfully.\n",
      "Results saved to B:\\multispectral-ped-detection\\data\\RAW\\kaist-cvpr15\\annotations-yolo\\day2\n"
     ]
    },
    {
     "name": "stderr",
     "output_type": "stream",
     "text": [
      "\n",
      "Annotations B:\\multispectral-ped-detection\\data\\RAW\\kaist-cvpr15\\annotations-coco\\night\\night.json: 100%|██████████| 12504/12504 [02:51<00:00, 73.04it/s]"
     ]
    },
    {
     "name": "stdout",
     "output_type": "stream",
     "text": [
      "COCO data converted successfully.\n",
      "Results saved to B:\\multispectral-ped-detection\\data\\RAW\\kaist-cvpr15\\annotations-yolo\\night2\n"
     ]
    },
    {
     "name": "stderr",
     "output_type": "stream",
     "text": [
      "\n"
     ]
    }
   ],
   "source": [
    "convert_coco(labels_dir=day_coco_annotations_folder, save_dir=day_yolo_annotations_folder)\n",
    "convert_coco(labels_dir=night_coco_annotations_folder, save_dir=night_yolo_annotations_folder)"
   ]
  },
  {
   "cell_type": "code",
   "execution_count": null,
   "metadata": {},
   "outputs": [],
   "source": []
  },
  {
   "cell_type": "code",
   "execution_count": null,
   "metadata": {},
   "outputs": [],
   "source": []
  }
 ],
 "metadata": {
  "kernelspec": {
   "display_name": "yolo-env",
   "language": "python",
   "name": "python3"
  },
  "language_info": {
   "codemirror_mode": {
    "name": "ipython",
    "version": 3
   },
   "file_extension": ".py",
   "mimetype": "text/x-python",
   "name": "python",
   "nbconvert_exporter": "python",
   "pygments_lexer": "ipython3",
   "version": "3.10.11"
  }
 },
 "nbformat": 4,
 "nbformat_minor": 2
}
