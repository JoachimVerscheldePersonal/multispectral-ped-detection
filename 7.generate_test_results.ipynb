{
 "cells": [
  {
   "cell_type": "code",
   "execution_count": 1,
   "metadata": {},
   "outputs": [],
   "source": [
    "import pandas as pd\n",
    "import numpy as np\n",
    "from sklearn.metrics import auc\n",
    "import matplotlib.pyplot as plt\n",
    "from ultralytics import YOLO\n",
    "from tqdm import tqdm\n",
    "import os\n",
    "%matplotlib inline  "
   ]
  },
  {
   "cell_type": "code",
   "execution_count": 2,
   "metadata": {},
   "outputs": [],
   "source": [
    "# Load the models\n",
    "control_model = YOLO('last_control.pt')"
   ]
  },
  {
   "cell_type": "code",
   "execution_count": 3,
   "metadata": {},
   "outputs": [
    {
     "name": "stdout",
     "output_type": "stream",
     "text": [
      "Ultralytics YOLOv8.0.226 🚀 Python-3.10.11 torch-2.1.1+cpu CPU (Intel Core(TM) i7-8550U 1.80GHz)\n",
      "Model summary (fused): 168 layers, 3006233 parameters, 0 gradients, 8.1 GFLOPs\n"
     ]
    },
    {
     "name": "stderr",
     "output_type": "stream",
     "text": [
      "\u001b[34m\u001b[1mval: \u001b[0mScanning B:\\multispectral-ped-detection\\data\\DOTA_CONTROL\\labels\\test... 182 images, 0 backgrounds, 0 corrupt: 100%|██████████| 182/182 [00:04<00:00, 44.36it/s]\n"
     ]
    },
    {
     "name": "stdout",
     "output_type": "stream",
     "text": [
      "\u001b[34m\u001b[1mval: \u001b[0mNew cache created: B:\\multispectral-ped-detection\\data\\DOTA_CONTROL\\labels\\test.cache\n"
     ]
    },
    {
     "name": "stderr",
     "output_type": "stream",
     "text": [
      "                 Class     Images  Instances      Box(P          R      mAP50  mAP50-95): 100%|██████████| 12/12 [00:33<00:00,  2.82s/it]\n"
     ]
    },
    {
     "name": "stdout",
     "output_type": "stream",
     "text": [
      "                   all        182        182      0.799      0.802      0.858      0.545\n",
      "                person        182        182      0.799      0.802      0.858      0.545\n",
      "Speed: 2.4ms preprocess, 162.2ms inference, 0.0ms loss, 0.8ms postprocess per image\n",
      "Results saved to \u001b[1mruns\\detect\\val\u001b[0m\n"
     ]
    }
   ],
   "source": [
    "metrics = control_model.val(data=\"C:\\Repositories\\OpenUniversiteit\\multispectral-ped-detection\\config_control.yaml\", split=\"test\")"
   ]
  },
  {
   "cell_type": "code",
   "execution_count": 4,
   "metadata": {},
   "outputs": [],
   "source": [
    "pr_curve = metrics.curves_results[0]\n",
    "recall = pr_curve[0]\n",
    "precision = pr_curve[1]\n",
    "person_precision = precision[0]\n",
    "people_precision = precision[1]\n",
    "cyclist_precision = precision[2]\n",
    "\n",
    "pr_curve_df = pd.DataFrame()\n",
    "pr_curve_df[\"recall\"] = recall\n",
    "pr_curve_df[\"person_precision\"] = person_precision\n",
    "pr_curve_df[\"people_precision\"] = people_precision\n",
    "pr_curve_df[\"cyclist_precision\"] = cyclist_precision\n",
    "pr_curve_df.to_csv(os.path.join(metrics.save_dir, \"pr_curve_results.csv\"), index=False)"
   ]
  },
  {
   "cell_type": "code",
   "execution_count": 5,
   "metadata": {},
   "outputs": [],
   "source": [
    "f1_curve = metrics.curves_results[1]\n",
    "confidence = f1_curve[0]\n",
    "f1_score = f1_curve[1]\n",
    "person_f1 = f1_score[0]\n",
    "people_f1 = f1_score[1]\n",
    "cyclist_f1 = f1_score[2]\n",
    "\n",
    "f1_curve_df = pd.DataFrame()\n",
    "f1_curve_df[\"confidence\"] = confidence\n",
    "f1_curve_df[\"person_f1\"] = person_f1\n",
    "f1_curve_df[\"people_f1\"] = people_f1\n",
    "f1_curve_df[\"cyclist_f1\"] = cyclist_f1\n",
    "f1_curve_df.to_csv(os.path.join(metrics.save_dir, \"f1_curve_results.csv\"), index=False)"
   ]
  },
  {
   "cell_type": "code",
   "execution_count": 6,
   "metadata": {},
   "outputs": [],
   "source": [
    "precision_curve = metrics.curves_results[2]\n",
    "confidence = precision_curve[0]\n",
    "precision = precision_curve[1]\n",
    "person_precision = precision[0]\n",
    "people_precision = precision[1]\n",
    "cyclist_precision = precision[2]\n",
    "\n",
    "precision_curve_df = pd.DataFrame()\n",
    "precision_curve_df[\"confidence\"] = confidence\n",
    "precision_curve_df[\"person_precision\"] = person_precision\n",
    "precision_curve_df[\"people_precision\"] = people_precision\n",
    "precision_curve_df[\"cyclist_precision\"] = cyclist_precision\n",
    "precision_curve_df.to_csv(os.path.join(metrics.save_dir, \"precision_curve_results.csv\"), index=False)"
   ]
  },
  {
   "cell_type": "code",
   "execution_count": 7,
   "metadata": {},
   "outputs": [],
   "source": [
    "recall_curve = metrics.curves_results[3]\n",
    "confidence = recall_curve[0]\n",
    "recall = recall_curve[1]\n",
    "person_recall = recall[0]\n",
    "people_recall = recall[1]\n",
    "cyclist_recall = recall[2]\n",
    "\n",
    "recall_curve_df = pd.DataFrame()\n",
    "recall_curve_df[\"confidence\"] = confidence\n",
    "recall_curve_df[\"person_recall\"] = person_recall\n",
    "recall_curve_df[\"people_recall\"] = people_recall\n",
    "recall_curve_df[\"cyclist_recall\"] = cyclist_recall\n",
    "recall_curve_df.to_csv(os.path.join(metrics.save_dir, \"recall_curve_results.csv\"), index=False)"
   ]
  },
  {
   "cell_type": "code",
   "execution_count": 8,
   "metadata": {},
   "outputs": [],
   "source": [
    "metrics_df = pd.DataFrame({key: [value] for key,value in metrics.results_dict.items()})"
   ]
  },
  {
   "cell_type": "code",
   "execution_count": 9,
   "metadata": {},
   "outputs": [],
   "source": [
    "metrics_df[\"metrics/mAP50_person\"] = [metrics.box.ap50[0]]\n",
    "metrics_df[\"metrics/mAP50_people\"] = [metrics.box.ap50[1]]\n",
    "metrics_df[\"metrics/mAP50_cyclist\"] = [metrics.box.ap50[2]]\n",
    "\n",
    "metrics_df[\"metrics/mAP50-95_person\"] = [metrics.box.ap[0]]\n",
    "metrics_df[\"metrics/mAP50-95_people\"] = [metrics.box.ap[1]]\n",
    "metrics_df[\"metrics/mAP50-95_cyclist\"] = [metrics.box.ap[2]]"
   ]
  },
  {
   "cell_type": "code",
   "execution_count": 10,
   "metadata": {},
   "outputs": [],
   "source": [
    "metrics_df.to_csv(os.path.join(metrics.save_dir, \"mean_results.csv\"), index=False)"
   ]
  },
  {
   "cell_type": "code",
   "execution_count": null,
   "metadata": {},
   "outputs": [],
   "source": []
  },
  {
   "cell_type": "code",
   "execution_count": null,
   "metadata": {},
   "outputs": [],
   "source": []
  }
 ],
 "metadata": {
  "kernelspec": {
   "display_name": "yolo-env",
   "language": "python",
   "name": "python3"
  },
  "language_info": {
   "codemirror_mode": {
    "name": "ipython",
    "version": 3
   },
   "file_extension": ".py",
   "mimetype": "text/x-python",
   "name": "python",
   "nbconvert_exporter": "python",
   "pygments_lexer": "ipython3",
   "version": "3.10.11"
  }
 },
 "nbformat": 4,
 "nbformat_minor": 2
}
