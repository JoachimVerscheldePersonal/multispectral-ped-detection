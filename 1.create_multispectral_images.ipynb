{
 "cells": [
  {
   "cell_type": "code",
   "execution_count": 1,
   "metadata": {},
   "outputs": [],
   "source": [
    "import os\n",
    "from tqdm import tqdm\n",
    "from entities import MultispectralImage"
   ]
  },
  {
   "cell_type": "code",
   "execution_count": 2,
   "metadata": {},
   "outputs": [],
   "source": [
    "optic_image_folder = \"data/Set1_V000/V000/visible/\"\n",
    "lwir_image_folder=\"data/Set1_V000/V000/lwir/\"\n",
    "multispectral_image_folder =\"data/Set1_V000/V000/multispectral/\""
   ]
  },
  {
   "cell_type": "code",
   "execution_count": 3,
   "metadata": {},
   "outputs": [],
   "source": [
    "image_names = os.listdir(optic_image_folder)"
   ]
  },
  {
   "cell_type": "code",
   "execution_count": 4,
   "metadata": {},
   "outputs": [
    {
     "name": "stderr",
     "output_type": "stream",
     "text": [
      "  0%|          | 0/2254 [00:00<?, ?it/s]\n"
     ]
    },
    {
     "name": "stdout",
     "output_type": "stream",
     "text": [
      "data/Set1_V000/V000/multispectral/I00000.tiff\n",
      "(512, 640, 6)\n",
      "[[[254 223 225   3   0   3]\n",
      "  [254 223 225   3   0   3]\n",
      "  [254 223 225   3   0   3]\n",
      "  ...\n",
      "  [ 88  82  74   3   0   3]\n",
      "  [ 74  69  63   3   0   3]\n",
      "  [ 63  58  52   3   0   3]]\n",
      "\n",
      " [[254 223 225   3   0   3]\n",
      "  [254 223 225   3   0   3]\n",
      "  [254 223 225   3   0   3]\n",
      "  ...\n",
      "  [ 67  61  53   6   0   6]\n",
      "  [ 56  51  45   3   0   3]\n",
      "  [ 51  46  40   3   0   3]]\n",
      "\n",
      " [[254 223 225   3   0   3]\n",
      "  [254 223 225   3   0   3]\n",
      "  [254 223 225   3   0   3]\n",
      "  ...\n",
      "  [ 51  44  38  14   9  14]\n",
      "  [ 46  41  35   3   0   3]\n",
      "  [ 46  41  35   3   0   3]]\n",
      "\n",
      " ...\n",
      "\n",
      " [[ 64  66  73 130 125 130]\n",
      "  [ 64  66  73 130 125 130]\n",
      "  [ 66  68  75 130 125 130]\n",
      "  ...\n",
      "  [ 52  52  55 101  96 101]\n",
      "  [ 53  53  56  32  26  32]\n",
      "  [ 53  53  56   3   0   3]]\n",
      "\n",
      " [[ 63  65  72 130 125 130]\n",
      "  [ 64  66  73 130 125 130]\n",
      "  [ 65  67  74 130 125 130]\n",
      "  ...\n",
      "  [ 52  52  55 101  96 101]\n",
      "  [ 53  53  56  32  26  32]\n",
      "  [ 53  53  56   3   0   3]]\n",
      "\n",
      " [[  0   0   0   0   0   0]\n",
      "  [  0   0   0   0   0   0]\n",
      "  [  0   0   0   0   0   0]\n",
      "  ...\n",
      "  [  0   0   0   0   0   0]\n",
      "  [  0   0   0   0   0   0]\n",
      "  [  0   0   0   0   0   0]]]\n"
     ]
    },
    {
     "ename": "TypeError",
     "evalue": "Cannot handle this data type: (1, 1, 6), |u1",
     "output_type": "error",
     "traceback": [
      "\u001b[1;31m---------------------------------------------------------------------------\u001b[0m",
      "\u001b[1;31mKeyError\u001b[0m                                  Traceback (most recent call last)",
      "File \u001b[1;32mc:\\Repositories\\OpenUniversiteit\\multispectral-ped-detection\\yolo-env\\lib\\site-packages\\PIL\\Image.py:3095\u001b[0m, in \u001b[0;36mfromarray\u001b[1;34m(obj, mode)\u001b[0m\n\u001b[0;32m   3094\u001b[0m \u001b[38;5;28;01mtry\u001b[39;00m:\n\u001b[1;32m-> 3095\u001b[0m     mode, rawmode \u001b[38;5;241m=\u001b[39m \u001b[43m_fromarray_typemap\u001b[49m\u001b[43m[\u001b[49m\u001b[43mtypekey\u001b[49m\u001b[43m]\u001b[49m\n\u001b[0;32m   3096\u001b[0m \u001b[38;5;28;01mexcept\u001b[39;00m \u001b[38;5;167;01mKeyError\u001b[39;00m \u001b[38;5;28;01mas\u001b[39;00m e:\n",
      "\u001b[1;31mKeyError\u001b[0m: ((1, 1, 6), '|u1')",
      "\nThe above exception was the direct cause of the following exception:\n",
      "\u001b[1;31mTypeError\u001b[0m                                 Traceback (most recent call last)",
      "Cell \u001b[1;32mIn[4], line 8\u001b[0m\n\u001b[0;32m      5\u001b[0m \u001b[38;5;28mprint\u001b[39m(multispectral_image_path)\n\u001b[0;32m      7\u001b[0m multispectral_image \u001b[38;5;241m=\u001b[39m MultispectralImage(optic_image_path, lwir_image_path)\n\u001b[1;32m----> 8\u001b[0m \u001b[43mmultispectral_image\u001b[49m\u001b[38;5;241;43m.\u001b[39;49m\u001b[43mwrite_to_file\u001b[49m\u001b[43m(\u001b[49m\u001b[43mmultispectral_image_path\u001b[49m\u001b[43m)\u001b[49m\n",
      "File \u001b[1;32mc:\\Repositories\\OpenUniversiteit\\multispectral-ped-detection\\entities.py:52\u001b[0m, in \u001b[0;36mMultispectralImage.write_to_file\u001b[1;34m(self, file_path)\u001b[0m\n\u001b[0;32m     50\u001b[0m \u001b[38;5;28mprint\u001b[39m(\u001b[38;5;28mself\u001b[39m\u001b[38;5;241m.\u001b[39marray\u001b[38;5;241m.\u001b[39mshape)\n\u001b[0;32m     51\u001b[0m \u001b[38;5;28mprint\u001b[39m(\u001b[38;5;28mself\u001b[39m\u001b[38;5;241m.\u001b[39marray)\n\u001b[1;32m---> 52\u001b[0m image_file \u001b[38;5;241m=\u001b[39m \u001b[43mImage\u001b[49m\u001b[38;5;241;43m.\u001b[39;49m\u001b[43mfromarray\u001b[49m\u001b[43m(\u001b[49m\u001b[43mnp\u001b[49m\u001b[38;5;241;43m.\u001b[39;49m\u001b[43muint8\u001b[49m\u001b[43m(\u001b[49m\u001b[38;5;28;43mself\u001b[39;49m\u001b[38;5;241;43m.\u001b[39;49m\u001b[43marray\u001b[49m\u001b[43m)\u001b[49m\u001b[43m)\u001b[49m\n\u001b[0;32m     53\u001b[0m image_file\u001b[38;5;241m.\u001b[39msave(file_path, \u001b[38;5;28mformat\u001b[39m\u001b[38;5;241m=\u001b[39m\u001b[38;5;124m'\u001b[39m\u001b[38;5;124mTIFF\u001b[39m\u001b[38;5;124m'\u001b[39m)\n",
      "File \u001b[1;32mc:\\Repositories\\OpenUniversiteit\\multispectral-ped-detection\\yolo-env\\lib\\site-packages\\PIL\\Image.py:3098\u001b[0m, in \u001b[0;36mfromarray\u001b[1;34m(obj, mode)\u001b[0m\n\u001b[0;32m   3096\u001b[0m     \u001b[38;5;28;01mexcept\u001b[39;00m \u001b[38;5;167;01mKeyError\u001b[39;00m \u001b[38;5;28;01mas\u001b[39;00m e:\n\u001b[0;32m   3097\u001b[0m         msg \u001b[38;5;241m=\u001b[39m \u001b[38;5;124m\"\u001b[39m\u001b[38;5;124mCannot handle this data type: \u001b[39m\u001b[38;5;132;01m%s\u001b[39;00m\u001b[38;5;124m, \u001b[39m\u001b[38;5;132;01m%s\u001b[39;00m\u001b[38;5;124m\"\u001b[39m \u001b[38;5;241m%\u001b[39m typekey\n\u001b[1;32m-> 3098\u001b[0m         \u001b[38;5;28;01mraise\u001b[39;00m \u001b[38;5;167;01mTypeError\u001b[39;00m(msg) \u001b[38;5;28;01mfrom\u001b[39;00m \u001b[38;5;21;01me\u001b[39;00m\n\u001b[0;32m   3099\u001b[0m \u001b[38;5;28;01melse\u001b[39;00m:\n\u001b[0;32m   3100\u001b[0m     rawmode \u001b[38;5;241m=\u001b[39m mode\n",
      "\u001b[1;31mTypeError\u001b[0m: Cannot handle this data type: (1, 1, 6), |u1"
     ]
    }
   ],
   "source": [
    "for image_name in tqdm(image_names):\n",
    "    optic_image_path = os.path.join(optic_image_folder, image_name)\n",
    "    lwir_image_path = os.path.join(lwir_image_folder, image_name)\n",
    "    multispectral_image_path = os.path.join(multispectral_image_folder, f\"{image_name[:image_name.find('.')]}.tiff\")\n",
    "    print(multispectral_image_path)\n",
    "\n",
    "    multispectral_image = MultispectralImage(optic_image_path, lwir_image_path)\n",
    "    multispectral_image.write_to_file(multispectral_image_path)"
   ]
  },
  {
   "cell_type": "code",
   "execution_count": null,
   "metadata": {},
   "outputs": [],
   "source": []
  },
  {
   "cell_type": "code",
   "execution_count": null,
   "metadata": {},
   "outputs": [],
   "source": []
  }
 ],
 "metadata": {
  "kernelspec": {
   "display_name": "yolo-env",
   "language": "python",
   "name": "python3"
  },
  "language_info": {
   "codemirror_mode": {
    "name": "ipython",
    "version": 3
   },
   "file_extension": ".py",
   "mimetype": "text/x-python",
   "name": "python",
   "nbconvert_exporter": "python",
   "pygments_lexer": "ipython3",
   "version": "3.10.11"
  }
 },
 "nbformat": 4,
 "nbformat_minor": 2
}
