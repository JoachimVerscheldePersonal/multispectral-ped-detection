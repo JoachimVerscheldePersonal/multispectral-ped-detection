{
 "cells": [
  {
   "cell_type": "code",
   "execution_count": 1,
   "metadata": {},
   "outputs": [],
   "source": [
    "import os\n",
    "from tqdm import tqdm\n",
    "from entities import MultispectralImage"
   ]
  },
  {
   "cell_type": "code",
   "execution_count": 2,
   "metadata": {},
   "outputs": [],
   "source": [
    "optic_image_folder = \"data/Set1_V000/V000/visible/\"\n",
    "lwir_image_folder=\"data/Set1_V000/V000/lwir/\"\n",
    "multispectral_image_folder =\"data/Set1_V000/V000/multispectral/\""
   ]
  },
  {
   "cell_type": "code",
   "execution_count": 3,
   "metadata": {},
   "outputs": [],
   "source": [
    "image_names = os.listdir(optic_image_folder)"
   ]
  },
  {
   "cell_type": "code",
   "execution_count": 4,
   "metadata": {},
   "outputs": [
    {
     "name": "stderr",
     "output_type": "stream",
     "text": [
      "  0%|          | 0/2254 [00:00<?, ?it/s]\n"
     ]
    },
    {
     "name": "stdout",
     "output_type": "stream",
     "text": [
      "data/Set1_V000/V000/multispectral/I00000.tiff\n",
      "(640, 3, 512)\n",
      "[[[254 254 254 ...  64  63   0]\n",
      "  [223 223 223 ...  66  65   0]\n",
      "  [225 225 225 ...  73  72   0]]\n",
      "\n",
      " [[254 254 254 ...  64  64   0]\n",
      "  [223 223 223 ...  66  66   0]\n",
      "  [225 225 225 ...  73  73   0]]\n",
      "\n",
      " [[254 254 254 ...  66  65   0]\n",
      "  [223 223 223 ...  68  67   0]\n",
      "  [225 225 225 ...  75  74   0]]\n",
      "\n",
      " ...\n",
      "\n",
      " [[ 88  67  51 ...  52  52   0]\n",
      "  [ 82  61  44 ...  52  52   0]\n",
      "  [ 74  53  38 ...  55  55   0]]\n",
      "\n",
      " [[ 74  56  46 ...  53  53   0]\n",
      "  [ 69  51  41 ...  53  53   0]\n",
      "  [ 63  45  35 ...  56  56   0]]\n",
      "\n",
      " [[ 63  51  46 ...  53  53   0]\n",
      "  [ 58  46  41 ...  53  53   0]\n",
      "  [ 52  40  35 ...  56  56   0]]]\n"
     ]
    },
    {
     "ename": "TypeError",
     "evalue": "Cannot handle this data type: (1, 1, 512), |u1",
     "output_type": "error",
     "traceback": [
      "\u001b[1;31m---------------------------------------------------------------------------\u001b[0m",
      "\u001b[1;31mKeyError\u001b[0m                                  Traceback (most recent call last)",
      "File \u001b[1;32mc:\\Repositories\\OpenUniversiteit\\YoloPetDetectionLowLight\\yolo-env\\lib\\site-packages\\PIL\\Image.py:3095\u001b[0m, in \u001b[0;36mfromarray\u001b[1;34m(obj, mode)\u001b[0m\n\u001b[0;32m   3094\u001b[0m \u001b[39mtry\u001b[39;00m:\n\u001b[1;32m-> 3095\u001b[0m     mode, rawmode \u001b[39m=\u001b[39m _fromarray_typemap[typekey]\n\u001b[0;32m   3096\u001b[0m \u001b[39mexcept\u001b[39;00m \u001b[39mKeyError\u001b[39;00m \u001b[39mas\u001b[39;00m e:\n",
      "\u001b[1;31mKeyError\u001b[0m: ((1, 1, 512), '|u1')",
      "\nThe above exception was the direct cause of the following exception:\n",
      "\u001b[1;31mTypeError\u001b[0m                                 Traceback (most recent call last)",
      "\u001b[1;32mc:\\Repositories\\OpenUniversiteit\\YoloPetDetectionLowLight\\1.create_multispectral_images.ipynb Cell 4\u001b[0m line \u001b[0;36m8\n\u001b[0;32m      <a href='vscode-notebook-cell:/c%3A/Repositories/OpenUniversiteit/YoloPetDetectionLowLight/1.create_multispectral_images.ipynb#W3sZmlsZQ%3D%3D?line=4'>5</a>\u001b[0m \u001b[39mprint\u001b[39m(multispectral_image_path)\n\u001b[0;32m      <a href='vscode-notebook-cell:/c%3A/Repositories/OpenUniversiteit/YoloPetDetectionLowLight/1.create_multispectral_images.ipynb#W3sZmlsZQ%3D%3D?line=6'>7</a>\u001b[0m multispectral_image \u001b[39m=\u001b[39m MultispectralImage(optic_image_path, lwir_image_path)\n\u001b[1;32m----> <a href='vscode-notebook-cell:/c%3A/Repositories/OpenUniversiteit/YoloPetDetectionLowLight/1.create_multispectral_images.ipynb#W3sZmlsZQ%3D%3D?line=7'>8</a>\u001b[0m multispectral_image\u001b[39m.\u001b[39;49mwrite_to_file(multispectral_image_path)\n",
      "File \u001b[1;32mc:\\Repositories\\OpenUniversiteit\\YoloPetDetectionLowLight\\entities.py:52\u001b[0m, in \u001b[0;36mMultispectralImage.write_to_file\u001b[1;34m(self, file_path)\u001b[0m\n\u001b[0;32m     50\u001b[0m \u001b[39mprint\u001b[39m(\u001b[39mself\u001b[39m\u001b[39m.\u001b[39marray\u001b[39m.\u001b[39mshape)\n\u001b[0;32m     51\u001b[0m \u001b[39mprint\u001b[39m(\u001b[39mself\u001b[39m\u001b[39m.\u001b[39marray)\n\u001b[1;32m---> 52\u001b[0m image_file \u001b[39m=\u001b[39m Image\u001b[39m.\u001b[39;49mfromarray(np\u001b[39m.\u001b[39;49muint8(\u001b[39mself\u001b[39;49m\u001b[39m.\u001b[39;49marray))\n\u001b[0;32m     53\u001b[0m image_file\u001b[39m.\u001b[39msave(file_path, \u001b[39mformat\u001b[39m\u001b[39m=\u001b[39m\u001b[39m'\u001b[39m\u001b[39mTIFF\u001b[39m\u001b[39m'\u001b[39m)\n",
      "File \u001b[1;32mc:\\Repositories\\OpenUniversiteit\\YoloPetDetectionLowLight\\yolo-env\\lib\\site-packages\\PIL\\Image.py:3098\u001b[0m, in \u001b[0;36mfromarray\u001b[1;34m(obj, mode)\u001b[0m\n\u001b[0;32m   3096\u001b[0m     \u001b[39mexcept\u001b[39;00m \u001b[39mKeyError\u001b[39;00m \u001b[39mas\u001b[39;00m e:\n\u001b[0;32m   3097\u001b[0m         msg \u001b[39m=\u001b[39m \u001b[39m\"\u001b[39m\u001b[39mCannot handle this data type: \u001b[39m\u001b[39m%s\u001b[39;00m\u001b[39m, \u001b[39m\u001b[39m%s\u001b[39;00m\u001b[39m\"\u001b[39m \u001b[39m%\u001b[39m typekey\n\u001b[1;32m-> 3098\u001b[0m         \u001b[39mraise\u001b[39;00m \u001b[39mTypeError\u001b[39;00m(msg) \u001b[39mfrom\u001b[39;00m \u001b[39me\u001b[39;00m\n\u001b[0;32m   3099\u001b[0m \u001b[39melse\u001b[39;00m:\n\u001b[0;32m   3100\u001b[0m     rawmode \u001b[39m=\u001b[39m mode\n",
      "\u001b[1;31mTypeError\u001b[0m: Cannot handle this data type: (1, 1, 512), |u1"
     ]
    }
   ],
   "source": [
    "for image_name in tqdm(image_names):\n",
    "    optic_image_path = os.path.join(optic_image_folder, image_name)\n",
    "    lwir_image_path = os.path.join(lwir_image_folder, image_name)\n",
    "    multispectral_image_path = os.path.join(multispectral_image_folder, f\"{image_name[:image_name.find('.')]}.tiff\")\n",
    "    print(multispectral_image_path)\n",
    "\n",
    "    multispectral_image = MultispectralImage(optic_image_path, lwir_image_path)\n",
    "    multispectral_image.write_to_file(multispectral_image_path)"
   ]
  },
  {
   "cell_type": "code",
   "execution_count": null,
   "metadata": {},
   "outputs": [],
   "source": []
  },
  {
   "cell_type": "code",
   "execution_count": null,
   "metadata": {},
   "outputs": [],
   "source": []
  }
 ],
 "metadata": {
  "kernelspec": {
   "display_name": "yolo-env",
   "language": "python",
   "name": "python3"
  },
  "language_info": {
   "codemirror_mode": {
    "name": "ipython",
    "version": 3
   },
   "file_extension": ".py",
   "mimetype": "text/x-python",
   "name": "python",
   "nbconvert_exporter": "python",
   "pygments_lexer": "ipython3",
   "version": "3.10.11"
  }
 },
 "nbformat": 4,
 "nbformat_minor": 2
}
