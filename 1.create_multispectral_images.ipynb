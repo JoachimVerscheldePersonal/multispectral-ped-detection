{
 "cells": [
  {
   "cell_type": "code",
   "execution_count": 1,
   "metadata": {},
   "outputs": [],
   "source": [
    "import cv2\n",
    "import numpy as np\n",
    "import os\n",
    "from tqdm import tqdm\n",
    "\n",
    "\n",
    "from entities import MultispectralImage"
   ]
  },
  {
   "cell_type": "code",
   "execution_count": 2,
   "metadata": {},
   "outputs": [],
   "source": [
    "optic_image_folder = \"data/Set1_V000/V000/visible/\"\n",
    "lwir_image_folder=\"data/Set1_V000/V000/lwir/\"\n",
    "multispectral_image_folder =\"data/Set1_V000/V000/multispectral/\""
   ]
  },
  {
   "cell_type": "code",
   "execution_count": 3,
   "metadata": {},
   "outputs": [],
   "source": [
    "image_names = os.listdir(optic_image_folder)"
   ]
  },
  {
   "cell_type": "code",
   "execution_count": 4,
   "metadata": {},
   "outputs": [
    {
     "name": "stderr",
     "output_type": "stream",
     "text": [
      "  0%|          | 0/2254 [00:00<?, ?it/s]\n"
     ]
    },
    {
     "ename": "error",
     "evalue": "OpenCV(4.8.0) D:\\a\\opencv-python\\opencv-python\\opencv\\modules\\imgcodecs\\src\\loadsave.cpp:703: error: (-215:Assertion failed) image.channels() == 1 || image.channels() == 3 || image.channels() == 4 in function 'cv::imwrite_'\n",
     "output_type": "error",
     "traceback": [
      "\u001b[1;31m---------------------------------------------------------------------------\u001b[0m",
      "\u001b[1;31merror\u001b[0m                                     Traceback (most recent call last)",
      "\u001b[1;32mc:\\Repositories\\OpenUniversiteit\\YoloPetDetectionLowLight\\1.create_multispectral_images.ipynb Cell 4\u001b[0m line \u001b[0;36m7\n\u001b[0;32m      <a href='vscode-notebook-cell:/c%3A/Repositories/OpenUniversiteit/YoloPetDetectionLowLight/1.create_multispectral_images.ipynb#W3sZmlsZQ%3D%3D?line=3'>4</a>\u001b[0m multispectral_image_path \u001b[39m=\u001b[39m os\u001b[39m.\u001b[39mpath\u001b[39m.\u001b[39mjoin(multispectral_image_folder, image_name)\n\u001b[0;32m      <a href='vscode-notebook-cell:/c%3A/Repositories/OpenUniversiteit/YoloPetDetectionLowLight/1.create_multispectral_images.ipynb#W3sZmlsZQ%3D%3D?line=5'>6</a>\u001b[0m multispectral_image \u001b[39m=\u001b[39m MultispectralImage(optic_image_path, lwir_image_path)\n\u001b[1;32m----> <a href='vscode-notebook-cell:/c%3A/Repositories/OpenUniversiteit/YoloPetDetectionLowLight/1.create_multispectral_images.ipynb#W3sZmlsZQ%3D%3D?line=6'>7</a>\u001b[0m multispectral_image\u001b[39m.\u001b[39;49mwrite_to_file(multispectral_image_path)\n",
      "File \u001b[1;32mc:\\Repositories\\OpenUniversiteit\\YoloPetDetectionLowLight\\entities.py:49\u001b[0m, in \u001b[0;36mMultispectralImage.write_to_file\u001b[1;34m(self, file_path)\u001b[0m\n\u001b[0;32m     42\u001b[0m \u001b[39mdef\u001b[39;00m \u001b[39mwrite_to_file\u001b[39m(\u001b[39mself\u001b[39m, file_path: \u001b[39mstr\u001b[39m) \u001b[39m-\u001b[39m\u001b[39m>\u001b[39m \u001b[39mNone\u001b[39;00m:\n\u001b[0;32m     43\u001b[0m \u001b[39m    \u001b[39m\u001b[39m\"\"\"\u001b[39;00m\n\u001b[0;32m     44\u001b[0m \u001b[39m    Writes the multispectral image to a file.\u001b[39;00m\n\u001b[0;32m     45\u001b[0m \n\u001b[0;32m     46\u001b[0m \u001b[39m    Args:\u001b[39;00m\n\u001b[0;32m     47\u001b[0m \u001b[39m        file_path (str): The file path where the multispectral image should be saved.\u001b[39;00m\n\u001b[0;32m     48\u001b[0m \u001b[39m    \"\"\"\u001b[39;00m\n\u001b[1;32m---> 49\u001b[0m     cv2\u001b[39m.\u001b[39;49mimwrite(file_path, \u001b[39mself\u001b[39;49m\u001b[39m.\u001b[39;49marray)\n",
      "\u001b[1;31merror\u001b[0m: OpenCV(4.8.0) D:\\a\\opencv-python\\opencv-python\\opencv\\modules\\imgcodecs\\src\\loadsave.cpp:703: error: (-215:Assertion failed) image.channels() == 1 || image.channels() == 3 || image.channels() == 4 in function 'cv::imwrite_'\n"
     ]
    }
   ],
   "source": [
    "for image_name in tqdm(image_names):\n",
    "    optic_image_path = os.path.join(optic_image_folder, image_name)\n",
    "    lwir_image_path = os.path.join(lwir_image_folder, image_name)\n",
    "    multispectral_image_path = os.path.join(multispectral_image_folder, image_name)\n",
    "\n",
    "    multispectral_image = MultispectralImage(optic_image_path, lwir_image_path)\n",
    "    multispectral_image.write_to_file(multispectral_image_path)"
   ]
  },
  {
   "cell_type": "code",
   "execution_count": null,
   "metadata": {},
   "outputs": [],
   "source": []
  }
 ],
 "metadata": {
  "kernelspec": {
   "display_name": "yolo-env",
   "language": "python",
   "name": "python3"
  },
  "language_info": {
   "codemirror_mode": {
    "name": "ipython",
    "version": 3
   },
   "file_extension": ".py",
   "mimetype": "text/x-python",
   "name": "python",
   "nbconvert_exporter": "python",
   "pygments_lexer": "ipython3",
   "version": "3.10.11"
  }
 },
 "nbformat": 4,
 "nbformat_minor": 2
}
