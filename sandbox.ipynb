{
 "cells": [
  {
   "cell_type": "code",
   "execution_count": 1,
   "metadata": {},
   "outputs": [],
   "source": [
    "import os\n",
    "from tqdm import tqdm\n",
    "import pandas as pd\n",
    "import numpy as np\n",
    "import glob\n",
    "import xml.etree.ElementTree as ET\n"
   ]
  },
  {
   "cell_type": "code",
   "execution_count": null,
   "metadata": {},
   "outputs": [],
   "source": [
    "base_path = \"B:\\\\multispectral-ped-detection\\\\data\\\\RAW\\\\kaist-cvpr15\\\\\"\n",
    "\n",
    "voc_day_annotation_paths = f'{base_path}annotations-xml-new-sanitized\\\\day\\\\**\\\\*.xml'\n",
    "voc_night_annotation_paths = f'{base_path}annotations-xml-new-sanitized\\\\night\\\\**\\\\*.xml'\n",
    "\n",
    "day_image_path = f'{base_path}images\\\\day\\\\'\n",
    "night_image_path = f'{base_path}images\\\\night\\\\'\n",
    "\n",
    "voc_day_annotations = glob.glob(voc_day_annotation_paths, recursive=True)\n",
    "voc_night_annotations = glob.glob(voc_night_annotation_paths, recursive=True)"
   ]
  },
  {
   "cell_type": "code",
   "execution_count": 3,
   "metadata": {},
   "outputs": [],
   "source": [
    "mapping = {f\"{voc_day_annotations.index(annotation)+1:010d}.jpg\":annotation for annotation in voc_day_annotations}"
   ]
  },
  {
   "cell_type": "code",
   "execution_count": 4,
   "metadata": {},
   "outputs": [],
   "source": [
    "mapping = mapping | {f\"n_{voc_night_annotations.index(annotation)+1:010d}.jpg\":annotation for annotation in voc_night_annotations}"
   ]
  },
  {
   "cell_type": "code",
   "execution_count": 5,
   "metadata": {},
   "outputs": [],
   "source": [
    "control_test_images = os.listdir(\"B:\\\\multispectral-ped-detection\\\\data\\\\DOTA_CONTROL\\\\images\\\\test\")\n",
    "blended_test_images = os.listdir(\"B:\\\\multispectral-ped-detection\\\\data\\\\DOTA_BLENDED\\\\images\\\\test_custom\\\\day\") + os.listdir(\"B:\\\\multispectral-ped-detection\\\\data\\\\DOTA_BLENDED\\\\images\\\\test_custom\\\\night\")"
   ]
  },
  {
   "cell_type": "code",
   "execution_count": 6,
   "metadata": {},
   "outputs": [],
   "source": [
    "control_test_image_annotations = [mapping[image] for image in control_test_images]"
   ]
  },
  {
   "cell_type": "code",
   "execution_count": 7,
   "metadata": {},
   "outputs": [],
   "source": [
    "blended_test_image_annotations = [mapping[image] for image in blended_test_images]"
   ]
  },
  {
   "cell_type": "code",
   "execution_count": 8,
   "metadata": {},
   "outputs": [
    {
     "data": {
      "text/plain": [
       "'B:\\\\multispectral-ped-detection\\\\data\\\\RAW\\\\kaist-cvpr15\\\\annotations-xml-new-sanitized\\\\day\\\\set06\\\\V000\\\\I00848.xml'"
      ]
     },
     "execution_count": 8,
     "metadata": {},
     "output_type": "execute_result"
    }
   ],
   "source": [
    "control_test_image_annotations[0]"
   ]
  },
  {
   "cell_type": "code",
   "execution_count": 9,
   "metadata": {},
   "outputs": [
    {
     "name": "stderr",
     "output_type": "stream",
     "text": [
      "100%|██████████| 7808/7808 [02:10<00:00, 59.98it/s]\n"
     ]
    }
   ],
   "source": [
    "occlusions = {}\n",
    "reverse_mapping = {value: key for key, value in mapping.items()}\n",
    "\n",
    "for annotation_path in tqdm(blended_test_image_annotations):\n",
    "    tree = ET.parse(annotation_path)\n",
    "    objects = tree.findall(\"object\")\n",
    "    if len(objects) == 1:\n",
    "        occlusion_element = objects[0].find(\"occlusion\")\n",
    "        if occlusion_element != None:\n",
    "            occlusion = occlusion_element.text\n",
    "            if not occlusion in occlusions:\n",
    "                occlusions[occlusion] = {}\n",
    "\n",
    "            object_name = objects[0].find(\"name\").text\n",
    "            if not object_name in occlusions[occlusion]:\n",
    "                occlusions[occlusion][object_name] = []\n",
    "\n",
    "            occlusions[occlusion][object_name].append(reverse_mapping[annotation_path])"
   ]
  },
  {
   "cell_type": "code",
   "execution_count": 10,
   "metadata": {},
   "outputs": [
    {
     "name": "stdout",
     "output_type": "stream",
     "text": [
      "[('cyclist', 2.955665024630542, 6), ('person', 89.65517241379311, 182), ('people', 5.911330049261084, 12), ('person?', 1.477832512315271, 3)]\n"
     ]
    }
   ],
   "source": [
    "test_abc = occlusions[\"2\"]\n",
    "total_rows =sum([len(rows) for rows in test_abc.values()])\n",
    "print([(key, (len(items)/total_rows)*100, len(items)) for key, items in test_abc.items()])"
   ]
  },
  {
   "cell_type": "code",
   "execution_count": 11,
   "metadata": {},
   "outputs": [],
   "source": [
    "occ_2 = occlusions[\"2\"][\"person\"]\n",
    "occ_1 = occlusions[\"1\"][\"person\"]\n",
    "occ_0 = occlusions[\"0\"][\"person\"]"
   ]
  },
  {
   "cell_type": "code",
   "execution_count": 17,
   "metadata": {},
   "outputs": [],
   "source": [
    "items_to_remove = [occ for occ in occ_1 if occ.startswith(\"n\")][0:33]\n",
    "occ_1 = [occ for occ in occ_1 if occ not in items_to_remove]\n"
   ]
  },
  {
   "cell_type": "code",
   "execution_count": 18,
   "metadata": {},
   "outputs": [],
   "source": [
    "items_to_add = [occ for occ in occ_0 if occ.startswith(\"n\")][0:35]\n",
    "occ_0 = occ_0[0:200] + items_to_add"
   ]
  },
  {
   "cell_type": "code",
   "execution_count": 20,
   "metadata": {},
   "outputs": [
    {
     "name": "stderr",
     "output_type": "stream",
     "text": [
      "100%|██████████| 235/235 [00:07<00:00, 29.99it/s]\n",
      "100%|██████████| 229/229 [00:06<00:00, 34.20it/s]\n",
      "100%|██████████| 182/182 [00:04<00:00, 39.36it/s]\n"
     ]
    }
   ],
   "source": [
    "import shutil\n",
    "source_folder = \"B:\\\\multispectral-ped-detection\\\\data\\\\DOTA_BLENDED\\\\images\\\\test\"\n",
    "destination_folder = \"B:\\\\multispectral-ped-detection\\\\data\\\\DOTA_BLENDED\\\\images\\\\test_custom\"\n",
    "\n",
    "for occ in tqdm(occ_0):\n",
    "    shutil.copy(os.path.join(source_folder, occ), os.path.join(destination_folder, \"occ_0\" ,occ))\n",
    "\n",
    "for occ in tqdm(occ_1):\n",
    "    shutil.copy(os.path.join(source_folder, occ), os.path.join(destination_folder, \"occ_1\" ,occ))\n",
    "\n",
    "for occ in tqdm(occ_2):\n",
    "    shutil.copy(os.path.join(source_folder, occ), os.path.join(destination_folder, \"occ_2\" ,occ))"
   ]
  },
  {
   "cell_type": "code",
   "execution_count": 21,
   "metadata": {},
   "outputs": [
    {
     "name": "stderr",
     "output_type": "stream",
     "text": [
      "100%|██████████| 5307/5307 [01:22<00:00, 64.08it/s] \n",
      "100%|██████████| 2501/2501 [00:19<00:00, 131.42it/s]\n"
     ]
    }
   ],
   "source": [
    "\n",
    "source_folder = \"B:\\\\multispectral-ped-detection\\\\data\\\\DOTA_BLENDED\\\\images\\\\test\"\n",
    "destination_folder = \"B:\\\\multispectral-ped-detection\\\\data\\\\DOTA_BLENDED\\\\images\\\\test_custom\"\n",
    "images = os.listdir(source_folder)\n",
    "day_images = [image for image in images if not image.startswith(\"n\")]\n",
    "night_images = [image for image in images if image.startswith(\"n\")]\n",
    "\n",
    "for image in tqdm(day_images):\n",
    "    os.rename(os.path.join(source_folder, image), os.path.join(destination_folder, \"day\" ,image))\n",
    "\n",
    "for image in tqdm(night_images):\n",
    "    os.rename(os.path.join(source_folder, image), os.path.join(destination_folder, \"night\" ,image))"
   ]
  },
  {
   "cell_type": "code",
   "execution_count": 22,
   "metadata": {},
   "outputs": [
    {
     "name": "stderr",
     "output_type": "stream",
     "text": [
      "100%|██████████| 5307/5307 [01:13<00:00, 72.24it/s] \n",
      "100%|██████████| 2501/2501 [00:34<00:00, 71.93it/s] \n"
     ]
    }
   ],
   "source": [
    "\n",
    "source_folder = \"B:\\\\multispectral-ped-detection\\\\data\\\\DOTA_CONTROL\\\\images\\\\test\"\n",
    "destination_folder = \"B:\\\\multispectral-ped-detection\\\\data\\\\DOTA_CONTROL\\\\images\\\\test_custom\"\n",
    "images = os.listdir(source_folder)\n",
    "day_images = [image for image in images if not image.startswith(\"n\")]\n",
    "night_images = [image for image in images if image.startswith(\"n\")]\n",
    "\n",
    "for image in tqdm(day_images):\n",
    "    os.rename(os.path.join(source_folder, image), os.path.join(destination_folder, \"day\" ,image))\n",
    "\n",
    "for image in tqdm(night_images):\n",
    "    os.rename(os.path.join(source_folder, image), os.path.join(destination_folder, \"night\" ,image))"
   ]
  },
  {
   "cell_type": "code",
   "execution_count": null,
   "metadata": {},
   "outputs": [],
   "source": []
  }
 ],
 "metadata": {
  "kernelspec": {
   "display_name": "yolo-env",
   "language": "python",
   "name": "python3"
  },
  "language_info": {
   "codemirror_mode": {
    "name": "ipython",
    "version": 3
   },
   "file_extension": ".py",
   "mimetype": "text/x-python",
   "name": "python",
   "nbconvert_exporter": "python",
   "pygments_lexer": "ipython3",
   "version": "3.10.11"
  }
 },
 "nbformat": 4,
 "nbformat_minor": 2
}
