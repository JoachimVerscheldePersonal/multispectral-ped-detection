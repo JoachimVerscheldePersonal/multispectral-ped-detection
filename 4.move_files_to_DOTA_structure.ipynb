{
 "cells": [
  {
   "cell_type": "code",
   "execution_count": 1,
   "metadata": {},
   "outputs": [],
   "source": [
    "import os\n",
    "from tqdm import tqdm\n",
    "from sklearn.model_selection import train_test_split\n",
    "import shutil"
   ]
  },
  {
   "cell_type": "markdown",
   "metadata": {},
   "source": [
    "### Move images and annotations to DOTA\n",
    "To use the yolo v8 model by ultralytics the data has to be in a certain folder structure following the DOTA dataset.\n",
    "```bash\n",
    "├── DOTA\n",
    "│   ├── images\n",
    "│   │   ├── train\n",
    "│   │   ├── val\n",
    "│   │   ├── test\n",
    "│   ├── labels\n",
    "│   │   ├── train\n",
    "│   │   ├── val\n",
    "│   │   ├── test\n",
    "```\n",
    "\n",
    "### 1. Setting the source and destination folders\n"
   ]
  },
  {
   "cell_type": "code",
   "execution_count": 2,
   "metadata": {},
   "outputs": [],
   "source": [
    "day_images_folder = \"data/sample_dataset/RAW/Set1_V000/V000/visible/\"\n",
    "night_images_folder =\"data/sample_dataset/RAW/Set4_V000/V000/visible/\"\n",
    "day_annotations_folder = \"data/sample_dataset/RAW/Set1_V000/V000/yolo_annotations/labels/day\"\n",
    "night_annotations_folder = \"data/sample_dataset/RAW/Set4_V000/V000/yolo_annotations/labels/night\"\n",
    "\n",
    "dota_root_folder = os.path.join(\"data\",\"sample_dataset\",\"DOTA\")\n",
    "dota_images_folder = os.path.join(dota_root_folder, \"images\")\n",
    "dota_annotations_folder = os.path.join(dota_root_folder, \"labels\")\n",
    "\n",
    "destination_images_train = os.path.join(dota_images_folder, \"train\")\n",
    "destination_images_val = os.path.join(dota_images_folder, \"val\")\n",
    "destination_images_test = os.path.join(dota_images_folder, \"test\")\n",
    "\n",
    "destination_annotations_train = os.path.join(dota_annotations_folder, \"train\")\n",
    "destination_annotations_val = os.path.join(dota_annotations_folder, \"val\")\n",
    "destination_annotations_test = os.path.join(dota_annotations_folder, \"test\")"
   ]
  },
  {
   "cell_type": "code",
   "execution_count": 3,
   "metadata": {},
   "outputs": [],
   "source": [
    "day_annotation_paths = [os.path.join(day_annotations_folder, annotation_name) for annotation_name in os.listdir(day_annotations_folder)]\n",
    "night_annotation_paths = [os.path.join(night_annotations_folder, annotation_name) for annotation_name in os.listdir(night_annotations_folder)]\n",
    "\n",
    "day_annotation_file_names = [annotation[:annotation.rfind('.')] for annotation in os.listdir(day_annotations_folder)]\n",
    "day_image_names = [image_name for image_name in os.listdir(day_images_folder) if image_name[:image_name.rfind('.')] in day_annotation_file_names]\n",
    "\n",
    "night_annotation_file_names = [annotation[annotation.find(\"_\")+1:annotation.rfind('.')] for annotation in os.listdir(night_annotations_folder)]\n",
    "night_image_names = [image_name for image_name in os.listdir(night_images_folder) if image_name[:image_name.rfind(\".\")] in night_annotation_file_names]\n",
    "\n",
    "day_image_paths = [os.path.join(day_images_folder, image_name) for image_name in day_image_names]\n",
    "night_image_paths = [os.path.join(night_images_folder, image_name) for image_name in night_image_names]\n",
    "new_night_image_path = {image_path: os.path.join(os.path.dirname(image_path),f'night_{os.path.basename(image_path)}') for image_path in night_image_paths}"
   ]
  },
  {
   "cell_type": "code",
   "execution_count": 4,
   "metadata": {},
   "outputs": [
    {
     "data": {
      "text/plain": [
       "1871"
      ]
     },
     "execution_count": 4,
     "metadata": {},
     "output_type": "execute_result"
    }
   ],
   "source": [
    "len(new_night_image_path)"
   ]
  },
  {
   "cell_type": "markdown",
   "metadata": {},
   "source": [
    "### 2. Splitting the day and night dataset\n",
    "First split the dataset into 80% training and 20% testing.\n",
    "Then split the training set into 80% training and 20% validation."
   ]
  },
  {
   "cell_type": "code",
   "execution_count": 5,
   "metadata": {},
   "outputs": [],
   "source": [
    "day_train_images, day_test_images, day_train_annotations, day_test_annotations = train_test_split(day_image_paths, day_annotation_paths, test_size=0.2,random_state=42)\n",
    "night_train_images, night_test_images, night_train_annotations, night_test_annotations = train_test_split(night_image_paths, night_annotation_paths, test_size=0.2,random_state=42)\n",
    "\n",
    "day_train_images, day_val_images, day_train_annotations, day_val_annotations = train_test_split(day_train_images, day_train_annotations, test_size=0.2, random_state=42)\n",
    "night_train_images, night_val_images, night_train_annotations, night_val_annotations = train_test_split(night_train_images, night_train_annotations, test_size=0.2, random_state=42)"
   ]
  },
  {
   "cell_type": "markdown",
   "metadata": {},
   "source": [
    "### 3. Merge day and night sets into full training/validation/test"
   ]
  },
  {
   "cell_type": "code",
   "execution_count": 6,
   "metadata": {},
   "outputs": [],
   "source": [
    "train_images = day_train_images + night_train_images\n",
    "val_images = day_val_images + night_val_images\n",
    "test_images = day_test_images + night_test_images\n",
    "\n",
    "train_annotations = day_train_annotations + night_train_annotations\n",
    "val_annotations = day_val_annotations + night_val_annotations\n",
    "test_annotations = day_test_annotations + night_test_annotations"
   ]
  },
  {
   "cell_type": "code",
   "execution_count": 7,
   "metadata": {},
   "outputs": [
    {
     "name": "stdout",
     "output_type": "stream",
     "text": [
      "Number of train images: 1762, annotations: 1762\n",
      "Number of val images: 442, annotations: 442\n",
      "Number of test images: 552, annotations: 552\n"
     ]
    }
   ],
   "source": [
    "print(f'Number of train images: {len(train_images)}, annotations: {len(train_annotations)}')\n",
    "print(f'Number of val images: {len(val_images)}, annotations: {len(val_annotations)}')\n",
    "print(f'Number of test images: {len(test_images)}, annotations: {len(test_annotations)}')"
   ]
  },
  {
   "cell_type": "markdown",
   "metadata": {},
   "source": [
    "### 4. Copy the images and labels to their correct folder"
   ]
  },
  {
   "cell_type": "code",
   "execution_count": 8,
   "metadata": {},
   "outputs": [
    {
     "name": "stderr",
     "output_type": "stream",
     "text": [
      "100%|██████████| 1762/1762 [00:43<00:00, 40.53it/s]\n",
      "100%|██████████| 442/442 [00:09<00:00, 45.17it/s] \n",
      "100%|██████████| 552/552 [00:13<00:00, 42.38it/s] \n",
      "100%|██████████| 1762/1762 [00:50<00:00, 35.07it/s]\n",
      "100%|██████████| 442/442 [00:12<00:00, 34.15it/s]\n",
      "100%|██████████| 552/552 [00:15<00:00, 35.02it/s]\n"
     ]
    }
   ],
   "source": [
    "for train_image in tqdm(train_images):\n",
    "    file_name = os.path.basename(new_night_image_path[train_image] if train_image in new_night_image_path else train_image)\n",
    "    destination = os.path.join(destination_images_train, file_name)\n",
    "    if not os.path.exists(destination):\n",
    "        shutil.copyfile(train_image, destination)\n",
    "\n",
    "for val_image in tqdm(val_images):\n",
    "    file_name = os.path.basename(new_night_image_path[val_image] if val_image in new_night_image_path else val_image)\n",
    "    destination = os.path.join(destination_images_val, file_name)\n",
    "    if not os.path.exists(destination):\n",
    "        shutil.copyfile(val_image, destination)\n",
    "\n",
    "for test_image in tqdm(test_images):\n",
    "    file_name = os.path.basename(new_night_image_path[test_image] if test_image in new_night_image_path else test_image)\n",
    "    destination = os.path.join(destination_images_test, file_name)\n",
    "    if not os.path.exists(destination):\n",
    "        shutil.copyfile(test_image, destination)\n",
    "\n",
    "for train_annotation in tqdm(train_annotations):\n",
    "    file_name = os.path.basename(train_annotation)\n",
    "    destination = os.path.join(destination_annotations_train, file_name)\n",
    "    if not os.path.exists(destination):\n",
    "        shutil.copyfile(train_annotation, destination)\n",
    "\n",
    "for val_annotation in tqdm(val_annotations):\n",
    "    file_name = os.path.basename(val_annotation)\n",
    "    destination = os.path.join(destination_annotations_val, file_name)\n",
    "    if not os.path.exists(destination):\n",
    "        shutil.copyfile(val_annotation, destination)\n",
    "\n",
    "for test_annotation in tqdm(test_annotations):\n",
    "    file_name = os.path.basename(test_annotation)\n",
    "    destination = os.path.join(destination_annotations_test, file_name)\n",
    "    if not os.path.exists(destination):\n",
    "        shutil.copyfile(test_annotation, destination)"
   ]
  },
  {
   "cell_type": "code",
   "execution_count": null,
   "metadata": {},
   "outputs": [],
   "source": []
  }
 ],
 "metadata": {
  "kernelspec": {
   "display_name": "yolo-env",
   "language": "python",
   "name": "python3"
  },
  "language_info": {
   "codemirror_mode": {
    "name": "ipython",
    "version": 3
   },
   "file_extension": ".py",
   "mimetype": "text/x-python",
   "name": "python",
   "nbconvert_exporter": "python",
   "pygments_lexer": "ipython3",
   "version": "3.10.11"
  }
 },
 "nbformat": 4,
 "nbformat_minor": 2
}
