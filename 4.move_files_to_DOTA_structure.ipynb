{
 "cells": [
  {
   "cell_type": "code",
   "execution_count": 1,
   "metadata": {},
   "outputs": [],
   "source": [
    "import os\n",
    "from tqdm import tqdm\n",
    "from sklearn.model_selection import train_test_split\n",
    "import shutil"
   ]
  },
  {
   "cell_type": "markdown",
   "metadata": {},
   "source": [
    "### Move images and annotations to DOTA\n",
    "To use the yolo v8 model by ultralytics the data has to be in a certain folder structure following the DOTA dataset.\n",
    "```bash\n",
    "├── DOTA\n",
    "│   ├── images\n",
    "│   │   ├── train\n",
    "│   │   ├── val\n",
    "│   │   ├── test\n",
    "│   ├── labels\n",
    "│   │   ├── train\n",
    "│   │   ├── val\n",
    "│   │   ├── test\n",
    "```\n",
    "\n",
    "### 1. Setting the source and destination folders\n"
   ]
  },
  {
   "cell_type": "code",
   "execution_count": 2,
   "metadata": {},
   "outputs": [],
   "source": [
    "base_path = \"B:\\\\multispectral-ped-detection\\\\data\\\\RAW\\\\kaist-cvpr15\\\\\"\n",
    "day_visible_image_path = f'{base_path}images_renamed\\\\day\\\\visible'\n",
    "day_blended_image_path = f'{base_path}images_renamed\\\\day\\\\blended'\n",
    "night_visible_image_path = f'{base_path}images_renamed\\\\night\\\\visible'\n",
    "night_blended_image_path = f'{base_path}images_renamed\\\\night\\\\blended'\n",
    "\n",
    "day_visible_images = os.listdir(day_visible_image_path)\n",
    "day_blended_images = os.listdir(day_blended_image_path)\n",
    "night_visible_images = os.listdir(night_visible_image_path)\n",
    "night_blended_images = os.listdir(night_blended_image_path)\n",
    "\n",
    "day_annotations_folder = \"B:\\\\multispectral-ped-detection\\\\data\\\\RAW\\\\kaist-cvpr15\\\\annotations-yolo\\\\day\\\\labels\\\\day\"\n",
    "night_annotations_folder = \"B:\\\\multispectral-ped-detection\\\\data\\\\RAW\\\\kaist-cvpr15\\\\annotations-yolo\\\\night\\\\labels\\\\night\""
   ]
  },
  {
   "cell_type": "code",
   "execution_count": 3,
   "metadata": {},
   "outputs": [],
   "source": [
    "visible_dota_root_folder = \"B:\\\\multispectral-ped-detection\\\\data\\\\DOTA_CONTROL\"\n",
    "\n",
    "visible_dota_images_folder = os.path.join(visible_dota_root_folder, \"images\")\n",
    "visible_dota_annotations_folder = os.path.join(visible_dota_root_folder, \"labels\")\n",
    "\n",
    "visible_destination_images_train = os.path.join(visible_dota_images_folder, \"train\")\n",
    "visible_destination_images_val = os.path.join(visible_dota_images_folder, \"val\")\n",
    "visible_destination_images_test = os.path.join(visible_dota_images_folder, \"test\")\n",
    "\n",
    "visible_destination_annotations_train = os.path.join(visible_dota_annotations_folder, \"train\")\n",
    "visible_destination_annotations_val = os.path.join(visible_dota_annotations_folder, \"val\")\n",
    "visible_destination_annotations_test = os.path.join(visible_dota_annotations_folder, \"test\")\n",
    "\n",
    "blended_dota_root_folder = \"B:\\\\multispectral-ped-detection\\\\data\\\\DOTA_BLENDED\"\n",
    "\n",
    "blended_dota_images_folder = os.path.join(blended_dota_root_folder, \"images\")\n",
    "blended_dota_annotations_folder = os.path.join(blended_dota_root_folder, \"labels\")\n",
    "\n",
    "blended_destination_images_train = os.path.join(blended_dota_images_folder, \"train\")\n",
    "blended_destination_images_val = os.path.join(blended_dota_images_folder, \"val\")\n",
    "blended_destination_images_test = os.path.join(blended_dota_images_folder, \"test\")\n",
    "\n",
    "blended_destination_annotations_train = os.path.join(blended_dota_annotations_folder, \"train\")\n",
    "blended_destination_annotations_val = os.path.join(blended_dota_annotations_folder, \"val\")\n",
    "blended_destination_annotations_test = os.path.join(blended_dota_annotations_folder, \"test\")"
   ]
  },
  {
   "cell_type": "code",
   "execution_count": 4,
   "metadata": {},
   "outputs": [],
   "source": [
    "day_annotations = [os.path.join(day_annotations_folder, annotation_name) for annotation_name in os.listdir(day_annotations_folder)]\n",
    "night_annotations = [os.path.join(night_annotations_folder, annotation_name) for annotation_name in os.listdir(night_annotations_folder)]\n",
    "\n",
    "day_annotation_file_names = [annotation[:annotation.rfind('.')] for annotation in os.listdir(day_annotations_folder)]\n",
    "night_annotation_file_names = [annotation[:annotation.rfind('.')] for annotation in os.listdir(night_annotations_folder)]"
   ]
  },
  {
   "cell_type": "markdown",
   "metadata": {},
   "source": [
    "### 2. Splitting the day and night dataset\n",
    "First split the dataset into 80% training and 20% testing.\n",
    "Then split the training set into 80% training and 20% validation."
   ]
  },
  {
   "cell_type": "code",
   "execution_count": 5,
   "metadata": {},
   "outputs": [],
   "source": [
    "train_day_annotation_file_names, test_day_annotation_file_names = train_test_split(day_annotation_file_names, test_size=0.2,random_state=42)\n",
    "train_night_annotation_file_names, test_night_annotation_file_names = train_test_split(night_annotation_file_names, test_size=0.2,random_state=42)\n",
    "\n",
    "train_day_annotation_file_names, val_day_annotation_file_names = train_test_split(train_day_annotation_file_names, test_size=0.2, random_state=42)\n",
    "train_night_annotation_file_names, val_night_annotation_file_names = train_test_split(train_night_annotation_file_names, test_size=0.2, random_state=42)"
   ]
  },
  {
   "cell_type": "markdown",
   "metadata": {},
   "source": [
    "### 3. Merge day and night sets into full training/validation/test"
   ]
  },
  {
   "cell_type": "code",
   "execution_count": 6,
   "metadata": {},
   "outputs": [],
   "source": [
    "visible_train_images = [os.path.join(day_visible_image_path, image_name) for image_name in day_visible_images if image_name[:image_name.rfind('.')] in train_day_annotation_file_names] + [os.path.join(night_visible_image_path, image_name) for image_name in night_visible_images if image_name[:image_name.rfind('.')] in train_night_annotation_file_names]\n",
    "visible_val_images =  [os.path.join(day_visible_image_path, image_name) for image_name in day_visible_images if image_name[:image_name.rfind('.')] in val_day_annotation_file_names] + [os.path.join(night_visible_image_path, image_name) for image_name in night_visible_images if image_name[:image_name.rfind('.')] in val_night_annotation_file_names]\n",
    "visible_test_images = [os.path.join(day_visible_image_path, image_name) for image_name in day_visible_images if image_name[:image_name.rfind('.')] in test_day_annotation_file_names] + [os.path.join(night_visible_image_path, image_name) for image_name in night_visible_images if image_name[:image_name.rfind('.')] in test_night_annotation_file_names]\n",
    "\n",
    "blended_train_images = [os.path.join(day_blended_image_path, image_name) for image_name in day_blended_images if image_name[:image_name.rfind('.')] in train_day_annotation_file_names] + [os.path.join(night_blended_image_path, image_name) for image_name in night_blended_images if image_name[:image_name.rfind('.')] in train_night_annotation_file_names]\n",
    "blended_val_images =  [os.path.join(day_blended_image_path, image_name) for image_name in day_blended_images if image_name[:image_name.rfind('.')] in val_day_annotation_file_names] + [os.path.join(night_blended_image_path, image_name) for image_name in night_blended_images if image_name[:image_name.rfind('.')] in val_night_annotation_file_names]\n",
    "blended_test_images = [os.path.join(day_blended_image_path, image_name) for image_name in day_blended_images if image_name[:image_name.rfind('.')] in test_day_annotation_file_names] + [os.path.join(night_blended_image_path, image_name) for image_name in night_blended_images if image_name[:image_name.rfind('.')] in test_night_annotation_file_names]\n",
    "\n",
    "train_annotations = [os.path.join(day_annotations_folder, f'{annotation_name}.txt') for annotation_name in train_day_annotation_file_names] + [os.path.join(night_annotations_folder, f'{annotation_name}.txt') for annotation_name in train_night_annotation_file_names]\n",
    "val_annotations = [os.path.join(day_annotations_folder, f'{annotation_name}.txt') for annotation_name in val_day_annotation_file_names] + [os.path.join(night_annotations_folder, f'{annotation_name}.txt') for annotation_name in val_night_annotation_file_names]\n",
    "test_annotations = [os.path.join(day_annotations_folder, f'{annotation_name}.txt') for annotation_name in test_day_annotation_file_names] + [os.path.join(night_annotations_folder, f'{annotation_name}.txt') for annotation_name in test_night_annotation_file_names]"
   ]
  },
  {
   "cell_type": "code",
   "execution_count": 7,
   "metadata": {},
   "outputs": [
    {
     "name": "stdout",
     "output_type": "stream",
     "text": [
      "Number of visible train images: 24984, annotations: 24984\n",
      "Number of visible val images: 6247, annotations: 6247\n",
      "Number of visible test images: 7808, annotations: 7808\n",
      "Number of blended train images: 24984, annotations: 24984\n",
      "Number of blended val images: 6247, annotations: 6247\n",
      "Number of blended test images: 7808, annotations: 7808\n"
     ]
    }
   ],
   "source": [
    "print(f'Number of visible train images: {len(visible_train_images)}, annotations: {len(train_annotations)}')\n",
    "print(f'Number of visible val images: {len(visible_val_images)}, annotations: {len(val_annotations)}')\n",
    "print(f'Number of visible test images: {len(visible_test_images)}, annotations: {len(test_annotations)}')\n",
    "\n",
    "print(f'Number of blended train images: {len(blended_train_images)}, annotations: {len(train_annotations)}')\n",
    "print(f'Number of blended val images: {len(blended_val_images)}, annotations: {len(val_annotations)}')\n",
    "print(f'Number of blended test images: {len(blended_test_images)}, annotations: {len(test_annotations)}')"
   ]
  },
  {
   "cell_type": "markdown",
   "metadata": {},
   "source": [
    "### 4. Copy the images and labels to their correct folder"
   ]
  },
  {
   "cell_type": "code",
   "execution_count": 8,
   "metadata": {},
   "outputs": [
    {
     "name": "stderr",
     "output_type": "stream",
     "text": [
      "100%|██████████| 24984/24984 [00:01<00:00, 12669.39it/s]\n",
      "100%|██████████| 6247/6247 [00:00<00:00, 13376.87it/s]\n",
      "100%|██████████| 7808/7808 [00:00<00:00, 14196.40it/s]\n",
      "100%|██████████| 24984/24984 [00:01<00:00, 13957.08it/s]\n",
      "100%|██████████| 6247/6247 [00:00<00:00, 16057.80it/s]\n",
      "100%|██████████| 7808/7808 [00:00<00:00, 18074.13it/s]\n"
     ]
    }
   ],
   "source": [
    "for train_image in tqdm(visible_train_images):\n",
    "    file_name = os.path.basename(train_image)\n",
    "    destination = os.path.join(visible_destination_images_train, file_name)\n",
    "    if not os.path.exists(destination):\n",
    "        shutil.copyfile(train_image, destination)\n",
    "\n",
    "for val_image in tqdm(visible_val_images):\n",
    "    file_name = os.path.basename(val_image)\n",
    "    destination = os.path.join(visible_destination_images_val, file_name)\n",
    "    if not os.path.exists(destination):\n",
    "        shutil.copyfile(val_image, destination)\n",
    "\n",
    "for test_image in tqdm(visible_test_images):\n",
    "    file_name = os.path.basename(test_image)\n",
    "    destination = os.path.join(visible_destination_images_test, file_name)\n",
    "    if not os.path.exists(destination):\n",
    "        shutil.copyfile(test_image, destination)\n",
    "\n",
    "for train_annotation in tqdm(train_annotations):\n",
    "    file_name = os.path.basename(train_annotation)\n",
    "    destination = os.path.join(visible_destination_annotations_train, file_name)\n",
    "    if not os.path.exists(destination):\n",
    "        shutil.copyfile(train_annotation, destination)\n",
    "\n",
    "for val_annotation in tqdm(val_annotations):\n",
    "    file_name = os.path.basename(val_annotation)\n",
    "    destination = os.path.join(visible_destination_annotations_val, file_name)\n",
    "    if not os.path.exists(destination):\n",
    "        shutil.copyfile(val_annotation, destination)\n",
    "\n",
    "for test_annotation in tqdm(test_annotations):\n",
    "    file_name = os.path.basename(test_annotation)\n",
    "    destination = os.path.join(visible_destination_annotations_test, file_name)\n",
    "    if not os.path.exists(destination):\n",
    "        shutil.copyfile(test_annotation, destination)"
   ]
  },
  {
   "cell_type": "code",
   "execution_count": 9,
   "metadata": {},
   "outputs": [
    {
     "name": "stderr",
     "output_type": "stream",
     "text": [
      "  0%|          | 0/24984 [00:00<?, ?it/s]"
     ]
    },
    {
     "name": "stderr",
     "output_type": "stream",
     "text": [
      "100%|██████████| 24984/24984 [04:00<00:00, 103.94it/s]\n",
      "100%|██████████| 6247/6247 [05:23<00:00, 19.30it/s]\n",
      "100%|██████████| 7808/7808 [06:38<00:00, 19.57it/s]\n",
      "100%|██████████| 24984/24984 [24:12<00:00, 17.20it/s]  \n",
      "100%|██████████| 6247/6247 [04:35<00:00, 22.64it/s]\n",
      "100%|██████████| 7808/7808 [05:48<00:00, 22.39it/s]\n"
     ]
    }
   ],
   "source": [
    "for train_image in tqdm(blended_train_images):\n",
    "    file_name = os.path.basename(train_image)\n",
    "    destination = os.path.join(blended_destination_images_train, file_name)\n",
    "    if not os.path.exists(destination):\n",
    "        shutil.copyfile(train_image, destination)\n",
    "\n",
    "for val_image in tqdm(blended_val_images):\n",
    "    file_name = os.path.basename(val_image)\n",
    "    destination = os.path.join(blended_destination_images_val, file_name)\n",
    "    if not os.path.exists(destination):\n",
    "        shutil.copyfile(val_image, destination)\n",
    "\n",
    "for test_image in tqdm(blended_test_images):\n",
    "    file_name = os.path.basename(test_image)\n",
    "    destination = os.path.join(blended_destination_images_test, file_name)\n",
    "    if not os.path.exists(destination):\n",
    "        shutil.copyfile(test_image, destination)\n",
    "\n",
    "for train_annotation in tqdm(train_annotations):\n",
    "    file_name = os.path.basename(train_annotation)\n",
    "    destination = os.path.join(blended_destination_annotations_train, file_name)\n",
    "    if not os.path.exists(destination):\n",
    "        shutil.copyfile(train_annotation, destination)\n",
    "\n",
    "for val_annotation in tqdm(val_annotations):\n",
    "    file_name = os.path.basename(val_annotation)\n",
    "    destination = os.path.join(blended_destination_annotations_val, file_name)\n",
    "    if not os.path.exists(destination):\n",
    "        shutil.copyfile(val_annotation, destination)\n",
    "\n",
    "for test_annotation in tqdm(test_annotations):\n",
    "    file_name = os.path.basename(test_annotation)\n",
    "    destination = os.path.join(blended_destination_annotations_test, file_name)\n",
    "    if not os.path.exists(destination):\n",
    "        shutil.copyfile(test_annotation, destination)"
   ]
  },
  {
   "cell_type": "code",
   "execution_count": null,
   "metadata": {},
   "outputs": [],
   "source": []
  }
 ],
 "metadata": {
  "kernelspec": {
   "display_name": "yolo-env",
   "language": "python",
   "name": "python3"
  },
  "language_info": {
   "codemirror_mode": {
    "name": "ipython",
    "version": 3
   },
   "file_extension": ".py",
   "mimetype": "text/x-python",
   "name": "python",
   "nbconvert_exporter": "python",
   "pygments_lexer": "ipython3",
   "version": "3.10.11"
  }
 },
 "nbformat": 4,
 "nbformat_minor": 2
}
